{
 "cells": [
  {
   "cell_type": "markdown",
   "metadata": {},
   "source": [
    "# Datapreparation\n",
    "\n",
    "Prepare and save the data in ./data/train/ and ./data/valid/. This only needs to be done once."
   ]
  },
  {
   "cell_type": "code",
   "execution_count": null,
   "metadata": {},
   "outputs": [],
   "source": [
    "from dataset import prepare_data\n",
    "prepare_data(100,range(1,300),True)"
   ]
  },
  {
   "cell_type": "markdown",
   "metadata": {},
   "source": [
    "# Optimize Reconstruction\n",
    "\n",
    "### Initialize"
   ]
  },
  {
   "cell_type": "code",
   "execution_count": null,
   "metadata": {},
   "outputs": [],
   "source": [
    "from explore import Optim\n",
    "device = 'cuda'\n",
    "angles = 100\n",
    "net_file = \"network_100a.pt\"\n",
    "optim = Optim(angles,name=net_file,device=device)"
   ]
  },
  {
   "attachments": {},
   "cell_type": "markdown",
   "metadata": {},
   "source": [
    "### Run the optimization using KSVD-Model and Orthogonal Matchin pursuit\n",
    "Select an image by choosing an *image id* and insert the desired value for *m*.<br>\n",
    "Select the *number of coefficients that can be nonezeros* in sparse representation that is allowed.<br>\n",
    "*number of atoms* in dictionary.<br>\n",
    "Select *patch size* for patchifying the image  "
   ]
  },
  {
   "cell_type": "markdown",
   "metadata": {},
   "source": [
    "### Extraction of the outputs"
   ]
  },
  {
   "cell_type": "code",
   "execution_count": null,
   "metadata": {},
   "outputs": [],
   "source": [
    "permutation = {\n",
    "        \"rotate\": list(range(0, 360, 360//4)),\n",
    "        \"zoom\": lambda x: [x-2, x, x+2],\n",
    "        \"shift\": [0]\n",
    "    }\n",
    "\n",
    "image_id = 169\n",
    "non_zero_coefs = 1\n",
    "number_of_atoms = 10\n",
    "m = 1.0\n",
    "patchsize = 2\n",
    "\n",
    "results = optim.optimize_ksvd(image_id, epochs=6000, mask_w=11., w_r=1.0, w_c=1.0, w_tv=0.01, lr=1,\n",
    "                                  opt_to=m, perms=permutation\n",
    "                                  non_zero_coefs=non_zero_coefs, number_of_atoms=number_of_atoms,\n",
    "                                  patchsize=patchsize, size_of_crop=16\n",
    "                                  )\n",
    "psnrs, xt, errors, losses, losses_r, losses_c, preds, stopiter, data_specs = results\n",
    "tmean, tvar, slice, sino, low_dose, loc, malig, angles, end_sino, ld_sino = data_specs"
   ]
  },
  {
   "cell_type": "markdown",
   "metadata": {},
   "source": [
    "# Plot Results\n",
    "\n",
    "### Plot of the interior and the exterior error"
   ]
  },
  {
   "cell_type": "code",
   "execution_count": null,
   "metadata": {},
   "outputs": [],
   "source": [
    "import torch \n",
    "import matplotlib.pyplot as plt\n",
    "\n",
    "# prepare errors\n",
    "errors2=list(zip(*errors))\n",
    "errors3=list(zip(*errors2[1])) \n",
    "error_nodule = torch.stack(errors3[0])[:,0,0]\n",
    "error_sur = torch.stack(errors3[1])[:,0,0]\n",
    "\n",
    "# plot errors\n",
    "plt.figure(figsize=(5,3))\n",
    "plt.plot(error_nodule)\n",
    "plt.plot(error_sur)\n",
    "plt.title(\"Error values e0 and e1\")\n",
    "plt.xlabel(\"iteration\")\n",
    "plt.legend([\"error nodule\", \"error surrounding\"])\n",
    "plt.show()"
   ]
  },
  {
   "attachments": {},
   "cell_type": "markdown",
   "metadata": {},
   "source": [
    "### Plot PSNR of each iteration"
   ]
  },
  {
   "cell_type": "code",
   "execution_count": null,
   "metadata": {},
   "outputs": [],
   "source": [
    "# plot psnrs\n",
    "plt.figure(figsize=(15,3))\n",
    "plt.plot(psnrs, linewidth=0.5)\n",
    "plt.title(\"PSNR of each epoch\")\n",
    "plt.xlabel(\"iteration\")\n",
    "plt.legend([\"PSNR\"])\n",
    "plt.show()"
   ]
  },
  {
   "cell_type": "markdown",
   "metadata": {},
   "source": [
    "### Plot of the (cropped) reconstruction"
   ]
  },
  {
   "cell_type": "code",
   "execution_count": null,
   "metadata": {},
   "outputs": [],
   "source": [
    "import dataset as ds\n",
    "\n",
    "result_xt = (ds.crop_center(xt, loc, size=optim.nosz*3))[0,0]\n",
    "startg_xt = (ds.crop_center(low_dose, loc, size=optim.nosz*3))[0,0]\n",
    "fig, (ax0,ax1) = plt.subplots(1,2)\n",
    "ax0.axis('off')\n",
    "ax0.imshow(startg_xt)\n",
    "ax0.set_title(\"reconstr. filtered backpr.\")\n",
    "ax1.axis('off')\n",
    "ax1.imshow(result_xt)\n",
    "ax1.set_title(f\"reconstr. m={m}\")\n",
    "plt.show()\n"
   ]
  },
  {
   "cell_type": "markdown",
   "metadata": {},
   "source": [
    "### Plot of the loss and the network prediction"
   ]
  },
  {
   "cell_type": "code",
   "execution_count": null,
   "metadata": {},
   "outputs": [],
   "source": [
    "fig, (ax0,ax1) = plt.subplots(1,2,figsize=(15,4))\n",
    "\n",
    "ax0.plot(losses) \n",
    "ax0.plot(losses_r)\n",
    "ax0.plot(losses_c)\n",
    "ax0.legend([\"loss\",\"loss E1\",\"loss E2(1)\"])\n",
    "ax0.set_title(\"Losses\")\n",
    "\n",
    "ax1.plot(preds)\n",
    "ax1.set_title(f\"Network prediction\")\n",
    "plt.show()"
   ]
  }
 ],
 "metadata": {
  "kernelspec": {
   "display_name": "Python 3",
   "language": "python",
   "name": "python3"
  },
  "language_info": {
   "codemirror_mode": {
    "name": "ipython",
    "version": 3
   },
   "file_extension": ".py",
   "mimetype": "text/x-python",
   "name": "python",
   "nbconvert_exporter": "python",
   "pygments_lexer": "ipython3",
   "version": "3.8.3"
  },
  "orig_nbformat": 4,
  "vscode": {
   "interpreter": {
    "hash": "916dbcbb3f70747c44a77c7bcd40155683ae19c65e1c03b4aa3499c5328201f1"
   }
  }
 },
 "nbformat": 4,
 "nbformat_minor": 2
}
